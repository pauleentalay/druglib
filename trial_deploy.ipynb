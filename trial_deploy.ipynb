{
 "cells": [
  {
   "cell_type": "code",
   "execution_count": 111,
   "metadata": {},
   "outputs": [
    {
     "name": "stderr",
     "output_type": "stream",
     "text": [
      "/opt/anaconda3/lib/python3.8/site-packages/gradio/deprecation.py:40: UserWarning: The 'type' parameter has been deprecated. Use the Number component instead.\n",
      "  warnings.warn(value)\n"
     ]
    },
    {
     "name": "stdout",
     "output_type": "stream",
     "text": [
      "Running on local URL:  http://127.0.0.1:7882/\n",
      "\n",
      "To create a public link, set `share=True` in `launch()`.\n"
     ]
    },
    {
     "data": {
      "text/html": [
       "<div><iframe src=\"http://127.0.0.1:7882/\" width=\"900\" height=\"500\" allow=\"autoplay; camera; microphone;\" frameborder=\"0\" allowfullscreen></iframe></div>"
      ],
      "text/plain": [
       "<IPython.core.display.HTML object>"
      ]
     },
     "metadata": {},
     "output_type": "display_data"
    },
    {
     "data": {
      "text/plain": [
       "(<gradio.routes.App at 0x7fca6b40dee0>, 'http://127.0.0.1:7882/', None)"
      ]
     },
     "execution_count": 111,
     "metadata": {},
     "output_type": "execute_result"
    }
   ],
   "source": [
    "import pickle\n",
    "import gradio as gr\n",
    "import pandas as pd\n",
    "\n",
    "with open('linear.sav', 'rb') as f_in:\n",
    "    model_lin = pickle.load(f_in)\n",
    "\n",
    "def transform_features(effectiveness, sideEffect):\n",
    "    effects = {'Highly Effective': '5', \n",
    "                                  'Considerably Effective': '4',\n",
    "                                  'Moderately Effective': '3',\n",
    "                                  'Marginally Effective': '2',\n",
    "                                  'Ineffective': '1'}\n",
    "    for answer, score in effects.items():\n",
    "        effectiveness = effectiveness.replace(answer, score)\n",
    "\n",
    "    sides = {'No Side Effects': '1',\n",
    "                               'Mild Side Effects': '2',\n",
    "                               'Moderate Side Effects': '3',\n",
    "                               'Extremely Severe Side Effects': '5',\n",
    "                               'Severe Side Effects': '4',\n",
    "                               }\n",
    "\n",
    "    for answer, score in sides.items():\n",
    "        sideEffect = sideEffect.replace(answer, score)\n",
    "\n",
    "    revs_df = pd.DataFrame([(int(effectiveness), int(sideEffect))], columns=('effectiveness', 'sideEffects'))\n",
    "    return revs_df\n",
    "\n",
    "def compute_rating(effectiveness, sideEffect):\n",
    "    rev = transform_features(effectiveness, sideEffect)\n",
    "    result = round(model_lin.predict(rev)[0])\n",
    "    \n",
    "    if result<=0:\n",
    "        result=1\n",
    "\n",
    "    return result\n",
    "\n",
    "demo = gr.Interface(fn=compute_rating, \n",
    "                            inputs=[gr.Radio(['Ineffective', 'Marginally Effective', 'Moderately Effective', 'Considerably Effective', 'Highly Effective']), \n",
    "                                    gr.Radio(['No Side Effects','Mild Side Effects','Moderate Side Effects','Severe Side Effects','Extremely Severe Side Effects'])], \n",
    "                            outputs=gr.outputs.Textbox(label='Predicted Drug Rating'), title='drug rating calculator', description='Please enter drug name as \"drug_name\"',\n",
    "                            examples=[['Highly Effective', 'No Side Effects'],['Ineffective', 'Severe Side Effects'] ])\n",
    "\n",
    "demo.launch()"
   ]
  },
  {
   "cell_type": "code",
   "execution_count": 2,
   "metadata": {},
   "outputs": [],
   "source": [
    "import gradio as gr\n",
    "from sklearn.feature_extraction.text import CountVectorizer, TfidfTransformer\n",
    "from sklearn.feature_extraction._stop_words import ENGLISH_STOP_WORDS\n",
    "import pandas as pd\n",
    "import pickle\n",
    "from nltk.corpus import stopwords\n",
    "\n",
    "\n",
    "ENGLISH_STOP_WORDS = set( stopwords.words('english') ).union(set(ENGLISH_STOP_WORDS))\n",
    "ENGLISH_STOP_WORDS.remove('no')\n",
    "ENGLISH_STOP_WORDS.remove('not')\n",
    "ENGLISH_STOP_WORDS.remove('less')\n",
    "ENGLISH_STOP_WORDS.remove('more')\n",
    "ENGLISH_STOP_WORDS.add('mg')\n",
    "\n",
    "stop_words= ENGLISH_STOP_WORDS"
   ]
  },
  {
   "cell_type": "code",
   "execution_count": 3,
   "metadata": {},
   "outputs": [
    {
     "name": "stderr",
     "output_type": "stream",
     "text": [
      "/opt/anaconda3/lib/python3.8/site-packages/gradio/deprecation.py:40: UserWarning: The 'type' parameter has been deprecated. Use the Number component instead.\n",
      "  warnings.warn(value)\n"
     ]
    },
    {
     "name": "stdout",
     "output_type": "stream",
     "text": [
      "Running on local URL:  http://127.0.0.1:7860/\n",
      "\n",
      "To create a public link, set `share=True` in `launch()`.\n"
     ]
    },
    {
     "data": {
      "text/html": [
       "<div><iframe src=\"http://127.0.0.1:7860/\" width=\"900\" height=\"500\" allow=\"autoplay; camera; microphone;\" frameborder=\"0\" allowfullscreen></iframe></div>"
      ],
      "text/plain": [
       "<IPython.core.display.HTML object>"
      ]
     },
     "metadata": {},
     "output_type": "display_data"
    },
    {
     "data": {
      "text/plain": [
       "(<gradio.routes.App at 0x7fbe29901640>, 'http://127.0.0.1:7860/', None)"
      ]
     },
     "execution_count": 3,
     "metadata": {},
     "output_type": "execute_result"
    },
    {
     "name": "stderr",
     "output_type": "stream",
     "text": [
      "/opt/anaconda3/lib/python3.8/site-packages/sklearn/utils/deprecation.py:87: FutureWarning: Function get_feature_names is deprecated; get_feature_names is deprecated in 1.0 and will be removed in 1.2. Please use get_feature_names_out instead.\n",
      "  warnings.warn(msg, category=FutureWarning)\n"
     ]
    }
   ],
   "source": [
    "with open('logregression.sav', 'rb') as f_in:\n",
    "    model_log = pickle.load(f_in)\n",
    "\n",
    "model_log.feature_names_in_\n",
    "\n",
    "def get_bag_of_words(txt):\n",
    "    txt = txt.replace(r'\\d+','')\n",
    "    txt = [txt]\n",
    "    vec = CountVectorizer(ngram_range=(1, 3), stop_words=stop_words, max_features=10000).fit(txt)        \n",
    "    bag_of_words = vec.transform(txt)                                                                #tuple of numbers (0, 2980) 1\n",
    "    return vec, bag_of_words  \n",
    "\n",
    "def create_bow_df(bowt):             \n",
    "    vec, count_matrix = bowt                     # allReviews only\n",
    "    count_array = count_matrix.toarray()\n",
    "    df_bow = pd.DataFrame(data=count_array, columns=vec.get_feature_names())\n",
    "    return df_bow\n",
    "\n",
    "def get_tf_idf(bow, tf_or_idf=False):\n",
    "    bow_df = create_bow_df(bow)\n",
    "    vect = TfidfTransformer(use_idf=tf_or_idf).fit(bow_df)\n",
    "    tf_matrix = vect.transform(bow_df) #df_bow\n",
    "    tf_array = tf_matrix.toarray()\n",
    "    df_tfx = pd.DataFrame(data=tf_array, columns=vect.get_feature_names_out())\n",
    "    return df_tfx\n",
    "    \n",
    "def transform_features(effectiveness, sideEffect, review):\n",
    "    effects = {'Highly Effective': '5', \n",
    "                                  'Considerably Effective': '4',\n",
    "                                  'Moderately Effective': '3',\n",
    "                                  'Marginally Effective': '2',\n",
    "                                  'Ineffective': '1'}\n",
    "    for answer, score in effects.items():\n",
    "        effectiveness = effectiveness.replace(answer, score)\n",
    "\n",
    "    sides = {'No Side Effects': '1',\n",
    "                               'Mild Side Effects': '2',\n",
    "                               'Moderate Side Effects': '3',\n",
    "                               'Extremely Severe Side Effects': '5',\n",
    "                               'Severe Side Effects': '4',\n",
    "                               }\n",
    "    for answer, score in sides.items():\n",
    "        sideEffect = sideEffect.replace(answer, score)\n",
    "\n",
    "    rev_df = get_bag_of_words(review)\n",
    "    rev_df = get_tf_idf(rev_df)\n",
    "\n",
    "    rev_df['effectiveness_x'] = int(effectiveness)\n",
    "    rev_df['sideEffects'] = int(sideEffect)\n",
    "\n",
    "    features = model_log.feature_names_in_\n",
    "    feature_dict = {k:0 for k in features}              #fits to model's words\n",
    "\n",
    "    rev_dict = rev_df.to_dict()\n",
    "\n",
    "    for col in rev_df.columns:\n",
    "        test = feature_dict.get(col, None)\n",
    "        if test is not None:\n",
    "            feature_dict[col] = rev_dict[col]\n",
    "    review_tf = pd.DataFrame(feature_dict, index=[0])\n",
    "    \n",
    "    return review_tf\n",
    "\n",
    "def compute_rating(effectiveness, sideEffect, review):\n",
    "    rev = transform_features(effectiveness, sideEffect, review)\n",
    "    result = model_log.predict(rev)\n",
    "    if result == 0:\n",
    "        result = 'Low Rating'\n",
    "    elif result == 1:\n",
    "        result = 'High Rating'\n",
    "    return result\n",
    "\n",
    "demo = gr.Interface(fn=compute_rating, \n",
    "                            inputs=[gr.Radio(['Ineffective', 'Marginally Effective', 'Moderately Effective', 'Considerably Effective', 'Highly Effective']), \n",
    "                                    gr.Radio(['No Side Effects','Mild Side Effects','Moderate Side Effects','Severe Side Effects','Extremely Severe Side Effects']),\n",
    "                                    'textbox'],\n",
    "                            outputs=gr.outputs.Textbox(label='Predicted Drug Rating'), title='drug rating calculator', description='Uses LogRegression model, and multigram term frequency. \\n Please enter drug name as \"drug_name\"',\n",
    "                            examples=[['Highly Effective', 'No Side Effects', '\tdrug_name, an angeotensin receptor blocker, lowered my blood pressure without side effects'],['Ineffective', 'Severe Side Effects', 'frequent urination, always thristy, dizziness'] ])\n",
    "\n",
    "demo.launch()"
   ]
  },
  {
   "cell_type": "code",
   "execution_count": 5,
   "metadata": {},
   "outputs": [
    {
     "name": "stderr",
     "output_type": "stream",
     "text": [
      "/opt/anaconda3/lib/python3.8/site-packages/gradio/deprecation.py:40: UserWarning: The 'type' parameter has been deprecated. Use the Number component instead.\n",
      "  warnings.warn(value)\n"
     ]
    },
    {
     "name": "stdout",
     "output_type": "stream",
     "text": [
      "Running on local URL:  http://127.0.0.1:7862/\n",
      "\n",
      "To create a public link, set `share=True` in `launch()`.\n"
     ]
    },
    {
     "data": {
      "text/html": [
       "<div><iframe src=\"http://127.0.0.1:7862/\" width=\"900\" height=\"500\" allow=\"autoplay; camera; microphone;\" frameborder=\"0\" allowfullscreen></iframe></div>"
      ],
      "text/plain": [
       "<IPython.core.display.HTML object>"
      ]
     },
     "metadata": {},
     "output_type": "display_data"
    },
    {
     "data": {
      "text/plain": [
       "(<gradio.routes.App at 0x7fbe10425d90>, 'http://127.0.0.1:7862/', None)"
      ]
     },
     "execution_count": 5,
     "metadata": {},
     "output_type": "execute_result"
    }
   ],
   "source": [
    "with open('knnregressor_19.sav', 'rb') as f_in:\n",
    "    model_knr = pickle.load(f_in)\n",
    "\n",
    "model_knr.feature_names_in_\n",
    "\n",
    "def get_bag_of_words(txt):\n",
    "    txt = txt.replace(r'\\d+','')\n",
    "    txt = [txt]\n",
    "    vec = CountVectorizer(ngram_range=(2, 2), stop_words=stop_words, max_features=10000).fit(txt)        \n",
    "    bag_of_words = vec.transform(txt)                                                                #tuple of numbers (0, 2980) 1\n",
    "    return vec, bag_of_words  \n",
    "\n",
    "def create_bow_df(bowt):             \n",
    "    vec, count_matrix = bowt                     # allReviews only\n",
    "    count_array = count_matrix.toarray()\n",
    "    df_bow = pd.DataFrame(data=count_array, columns=vec.get_feature_names())\n",
    "    return df_bow\n",
    "\n",
    "def get_tf_idf(bow, tf_or_idf=True):\n",
    "    bow_df = create_bow_df(bow)\n",
    "    vect = TfidfTransformer(use_idf=tf_or_idf).fit(bow_df)\n",
    "    tf_matrix = vect.transform(bow_df) #df_bow\n",
    "    tf_array = tf_matrix.toarray()\n",
    "    df_tfx = pd.DataFrame(data=tf_array, columns=vect.get_feature_names_out())\n",
    "    return df_tfx\n",
    "    \n",
    "def transform_features(effectiveness, sideEffect, review):\n",
    "    effects = {'Highly Effective': '5', \n",
    "                                  'Considerably Effective': '4',\n",
    "                                  'Moderately Effective': '3',\n",
    "                                  'Marginally Effective': '2',\n",
    "                                  'Ineffective': '1'}\n",
    "    for answer, score in effects.items():\n",
    "        effectiveness = effectiveness.replace(answer, score)\n",
    "\n",
    "    sides = {'No Side Effects': '1',\n",
    "                               'Mild Side Effects': '2',\n",
    "                               'Moderate Side Effects': '3',\n",
    "                               'Extremely Severe Side Effects': '5',\n",
    "                               'Severe Side Effects': '4',\n",
    "                               }\n",
    "    for answer, score in sides.items():\n",
    "        sideEffect = sideEffect.replace(answer, score)\n",
    "\n",
    "    rev_df = get_bag_of_words(review)\n",
    "    rev_df = get_tf_idf(rev_df)\n",
    "\n",
    "    rev_df['effectiveness_x'] = int(effectiveness)\n",
    "    rev_df['sideEffects'] = int(sideEffect)\n",
    "\n",
    "    features = model_log.feature_names_in_\n",
    "    feature_dict = {k:0 for k in features}              #fits to model's words\n",
    "\n",
    "    rev_dict = rev_df.to_dict()\n",
    "\n",
    "    for col in rev_df.columns:\n",
    "        test = feature_dict.get(col, None)\n",
    "        if test is not None:\n",
    "            feature_dict[col] = rev_dict[col]\n",
    "    review_tf = pd.DataFrame(feature_dict, index=[0])\n",
    "    \n",
    "    return review_tf\n",
    "\n",
    "def compute_rating(effectiveness, sideEffect, review):\n",
    "    rev = transform_features(effectiveness, sideEffect, review)\n",
    "    result = round(model_knr.predict(rev)[0])\n",
    "    \n",
    "    if result<=0:\n",
    "        result=1\n",
    "\n",
    "    return result\n",
    "\n",
    "demo = gr.Interface(fn=compute_rating, \n",
    "                            inputs=[gr.Radio(['Ineffective', 'Marginally Effective', 'Moderately Effective', 'Considerably Effective', 'Highly Effective']), \n",
    "                                    gr.Radio(['No Side Effects','Mild Side Effects','Moderate Side Effects','Severe Side Effects','Extremely Severe Side Effects']),\n",
    "                                    'textbox'],\n",
    "                            outputs=gr.outputs.Textbox(label='Predicted Drug Rating'), title='drug rating calculator', description='Uses KNRegressor model, and bigram inverse document frequency. \\n Please enter drug name as \"drug_name\"',\n",
    "                            examples=[['Highly Effective', 'No Side Effects', '\tdrug_name, an angeotensin receptor blocker, lowered my blood pressure without side effects'],['Ineffective', 'Severe Side Effects', 'frequent urination, always thristy, dizziness'] ])\n",
    "\n",
    "demo.launch()"
   ]
  }
 ],
 "metadata": {
  "interpreter": {
   "hash": "40d3a090f54c6569ab1632332b64b2c03c39dcf918b08424e98f38b5ae0af88f"
  },
  "kernelspec": {
   "display_name": "Python 3.8.8 ('base')",
   "language": "python",
   "name": "python3"
  },
  "language_info": {
   "codemirror_mode": {
    "name": "ipython",
    "version": 3
   },
   "file_extension": ".py",
   "mimetype": "text/x-python",
   "name": "python",
   "nbconvert_exporter": "python",
   "pygments_lexer": "ipython3",
   "version": "3.8.8"
  },
  "orig_nbformat": 4
 },
 "nbformat": 4,
 "nbformat_minor": 2
}
